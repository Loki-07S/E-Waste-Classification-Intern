{
 "cells": [
  {
   "cell_type": "code",
   "execution_count": 2,
   "id": "99923845-ee3a-4c77-98d3-3d1fa4d85443",
   "metadata": {},
   "outputs": [],
   "source": [
    "import gradio as gr\n",
    "import numpy as np\n",
    "from tensorflow.keras.models import load_model\n",
    "from tensorflow.keras.utils import load_img, img_to_array\n",
    "from tensorflow.keras.applications.efficientnet_v2 import preprocess_input\n",
    "import tensorflow as tf\n"
   ]
  },
  {
   "cell_type": "code",
   "execution_count": 4,
   "id": "097f2183-e7d8-4586-80b2-f458016e0a4a",
   "metadata": {},
   "outputs": [
    {
     "name": "stderr",
     "output_type": "stream",
     "text": [
      "WARNING:absl:Compiled the loaded model, but the compiled metrics have yet to be built. `model.compile_metrics` will be empty until you train or evaluate the model.\n"
     ]
    }
   ],
   "source": [
    "# Load your trained model\n",
    "model = load_model(\"e_waste_classifier_model.h5\")\n"
   ]
  },
  {
   "cell_type": "code",
   "execution_count": 6,
   "id": "f8d9b93d-98ee-4a51-8d61-cd27636d6e6b",
   "metadata": {},
   "outputs": [
    {
     "name": "stdout",
     "output_type": "stream",
     "text": [
      "Found 2400 files belonging to 10 classes.\n"
     ]
    }
   ],
   "source": [
    "# Load dataset just to get class names\n",
    "raw_train_ds = tf.keras.preprocessing.image_dataset_from_directory(\n",
    "    \"modified-dataset/train\",\n",
    "    image_size=(128, 128),\n",
    "    batch_size=100,\n",
    "    label_mode='int'\n",
    ")\n",
    "class_names = raw_train_ds.class_names\n"
   ]
  },
  {
   "cell_type": "code",
   "execution_count": 12,
   "id": "1c351597-b972-4453-83c4-9aa52cac0a1c",
   "metadata": {},
   "outputs": [],
   "source": [
    "@tf.function\n",
    "def fast_predict(image_array):\n",
    "    pred = model(image_array, training=False)\n",
    "    return pred\n"
   ]
  },
  {
   "cell_type": "code",
   "execution_count": 22,
   "id": "13accd7e-a0f4-4ee1-a135-d0851d0323f8",
   "metadata": {},
   "outputs": [],
   "source": [
    "def predict_e_waste(img):\n",
    "    img = img.resize((128, 128))\n",
    "    img_array = img_to_array(img)\n",
    "    img_array = np.expand_dims(img_array, axis=0)\n",
    "    img_array = preprocess_input(img_array)\n",
    "\n",
    "    pred = fast_predict(img_array)\n",
    "    predicted_class = class_names[np.argmax(pred)]\n",
    "    return f\"Predicted E-Waste Category: {predicted_class}\"\n",
    "\n"
   ]
  },
  {
   "cell_type": "code",
   "execution_count": 24,
   "id": "dae7e456-661f-47d6-b20d-15e1512b5711",
   "metadata": {},
   "outputs": [
    {
     "name": "stdout",
     "output_type": "stream",
     "text": [
      "* Running on local URL:  http://127.0.0.1:7862\n",
      "* Running on public URL: https://73930d2c28801c3ff7.gradio.live\n",
      "\n",
      "This share link expires in 1 week. For free permanent hosting and GPU upgrades, run `gradio deploy` from the terminal in the working directory to deploy to Hugging Face Spaces (https://huggingface.co/spaces)\n"
     ]
    },
    {
     "data": {
      "text/html": [
       "<div><iframe src=\"https://73930d2c28801c3ff7.gradio.live\" width=\"100%\" height=\"500\" allow=\"autoplay; camera; microphone; clipboard-read; clipboard-write;\" frameborder=\"0\" allowfullscreen></iframe></div>"
      ],
      "text/plain": [
       "<IPython.core.display.HTML object>"
      ]
     },
     "metadata": {},
     "output_type": "display_data"
    },
    {
     "data": {
      "text/plain": []
     },
     "execution_count": 24,
     "metadata": {},
     "output_type": "execute_result"
    }
   ],
   "source": [
    "interface = gr.Interface(\n",
    "    fn=predict_e_waste,\n",
    "    inputs=gr.Image(type=\"pil\"),\n",
    "    outputs=\"text\",\n",
    "    title=\"E-Waste Image Classifier\",\n",
    "    description=\"Upload an image of e-waste to identify its category.\"\n",
    ")\n",
    "\n",
    "interface.launch(share=True)\n"
   ]
  },
  {
   "cell_type": "code",
   "execution_count": null,
   "id": "2b99d1db-65f5-43b5-a224-8af7e0136680",
   "metadata": {},
   "outputs": [],
   "source": []
  }
 ],
 "metadata": {
  "kernelspec": {
   "display_name": "Python [conda env:base] *",
   "language": "python",
   "name": "conda-base-py"
  },
  "language_info": {
   "codemirror_mode": {
    "name": "ipython",
    "version": 3
   },
   "file_extension": ".py",
   "mimetype": "text/x-python",
   "name": "python",
   "nbconvert_exporter": "python",
   "pygments_lexer": "ipython3",
   "version": "3.12.7"
  }
 },
 "nbformat": 4,
 "nbformat_minor": 5
}
